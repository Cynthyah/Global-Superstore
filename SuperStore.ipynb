{
 "cells": [
  {
   "cell_type": "markdown",
   "id": "acfc8afa",
   "metadata": {},
   "source": [
    "# Global SuperStore - 2016\n",
    "Source: https://www.kaggle.com/shekpaul/global-superstore\n",
    "\n",
    "The dataset is not clean, and first we need to check the information and clean the columns or/and rows that is necessary. After cleaning the data, let´s work to answer the questions below."
   ]
  },
  {
   "cell_type": "markdown",
   "id": "e42e0f05",
   "metadata": {},
   "source": [
    "## Questions\n",
    "1. Total, how many orders have cross the shipping cost of 500?\n",
    "2. Count the number of segments, countries, regions, markets, categories, and sub-categories present in the global_superstore_2016 data.\n",
    "3. Get the list of Order ID's where the Indian customer's have bought the things under the category 'Technology' after paying the Shipping Cost more than 500. \n",
    "4. Get the list of Order ID's where the Indian customer's have bought the things under the category 'Technology' the Sales greater than 500.\n",
    "5. How many people from the State 'Karnataka' have bought the things under the category 'Technology'?\n",
    "6. Get the list of countries where the 'Profit' and 'Shipping Cost's are greater than or equal to 2000 and 300 respectively.\n",
    "7. Find the list of Indian states where the people have purchased the things under the category Technology.\n",
    "8. Find the overall rank of \"India\" where the 'Profit' is maximum under the category 'Technology'.\n",
    "9. Display the data with min, max, average and std of 'Profit' & 'Sales' for each Sub-Category under each Category"
   ]
  },
  {
   "cell_type": "code",
   "execution_count": 29,
   "id": "c58fff36",
   "metadata": {},
   "outputs": [],
   "source": [
    "import numpy as np\n",
    "import pandas as pd\n",
    "import re"
   ]
  },
  {
   "cell_type": "markdown",
   "id": "03d6fbf7",
   "metadata": {},
   "source": [
    "## Data extraction"
   ]
  },
  {
   "cell_type": "code",
   "execution_count": 30,
   "id": "0f979fb4",
   "metadata": {},
   "outputs": [],
   "source": [
    "df = pd.read_csv('Files/global_superstore_2016.csv')"
   ]
  },
  {
   "cell_type": "code",
   "execution_count": 31,
   "id": "ade7906c",
   "metadata": {},
   "outputs": [
    {
     "name": "stdout",
     "output_type": "stream",
     "text": [
      "<class 'pandas.core.frame.DataFrame'>\n",
      "RangeIndex: 51290 entries, 0 to 51289\n",
      "Data columns (total 24 columns):\n",
      " #   Column          Non-Null Count  Dtype  \n",
      "---  ------          --------------  -----  \n",
      " 0   Row ID          51290 non-null  int64  \n",
      " 1   Order ID        51290 non-null  object \n",
      " 2   Order Date      51290 non-null  object \n",
      " 3   Ship Date       51290 non-null  object \n",
      " 4   Ship Mode       51290 non-null  object \n",
      " 5   Customer ID     51290 non-null  object \n",
      " 6   Customer Name   51290 non-null  object \n",
      " 7   Segment         51290 non-null  object \n",
      " 8   Postal Code     9994 non-null   float64\n",
      " 9   City            51290 non-null  object \n",
      " 10  State           51290 non-null  object \n",
      " 11  Country         51290 non-null  object \n",
      " 12  Region          51290 non-null  object \n",
      " 13  Market          51290 non-null  object \n",
      " 14  Product ID      51290 non-null  object \n",
      " 15  Category        51290 non-null  object \n",
      " 16  Sub-Category    51290 non-null  object \n",
      " 17  Product Name    51290 non-null  object \n",
      " 18  Sales           51290 non-null  object \n",
      " 19  Quantity        51290 non-null  int64  \n",
      " 20  Discount        51290 non-null  float64\n",
      " 21  Profit          51290 non-null  object \n",
      " 22  Shipping Cost   51290 non-null  float64\n",
      " 23  Order Priority  51290 non-null  object \n",
      "dtypes: float64(3), int64(2), object(19)\n",
      "memory usage: 9.4+ MB\n"
     ]
    }
   ],
   "source": [
    "df.info()"
   ]
  },
  {
   "cell_type": "code",
   "execution_count": 32,
   "id": "7ac9fc6e",
   "metadata": {},
   "outputs": [
    {
     "data": {
      "text/html": [
       "<div>\n",
       "<style scoped>\n",
       "    .dataframe tbody tr th:only-of-type {\n",
       "        vertical-align: middle;\n",
       "    }\n",
       "\n",
       "    .dataframe tbody tr th {\n",
       "        vertical-align: top;\n",
       "    }\n",
       "\n",
       "    .dataframe thead th {\n",
       "        text-align: right;\n",
       "    }\n",
       "</style>\n",
       "<table border=\"1\" class=\"dataframe\">\n",
       "  <thead>\n",
       "    <tr style=\"text-align: right;\">\n",
       "      <th></th>\n",
       "      <th>Row ID</th>\n",
       "      <th>Order ID</th>\n",
       "      <th>Order Date</th>\n",
       "      <th>Ship Date</th>\n",
       "      <th>Ship Mode</th>\n",
       "      <th>Customer ID</th>\n",
       "      <th>Customer Name</th>\n",
       "      <th>Segment</th>\n",
       "      <th>Postal Code</th>\n",
       "      <th>City</th>\n",
       "      <th>...</th>\n",
       "      <th>Product ID</th>\n",
       "      <th>Category</th>\n",
       "      <th>Sub-Category</th>\n",
       "      <th>Product Name</th>\n",
       "      <th>Sales</th>\n",
       "      <th>Quantity</th>\n",
       "      <th>Discount</th>\n",
       "      <th>Profit</th>\n",
       "      <th>Shipping Cost</th>\n",
       "      <th>Order Priority</th>\n",
       "    </tr>\n",
       "  </thead>\n",
       "  <tbody>\n",
       "    <tr>\n",
       "      <th>0</th>\n",
       "      <td>40098</td>\n",
       "      <td>CA-2014-AB10015140-41954</td>\n",
       "      <td>11-11-2014</td>\n",
       "      <td>11/13/2014</td>\n",
       "      <td>First Class</td>\n",
       "      <td>AB-100151402</td>\n",
       "      <td>Aaron Bergman</td>\n",
       "      <td>Consumer</td>\n",
       "      <td>73120.0</td>\n",
       "      <td>Oklahoma City</td>\n",
       "      <td>...</td>\n",
       "      <td>TEC-PH-5816</td>\n",
       "      <td>Technology</td>\n",
       "      <td>Phones</td>\n",
       "      <td>Samsung Convoy 3</td>\n",
       "      <td>$221.98</td>\n",
       "      <td>2</td>\n",
       "      <td>0.0</td>\n",
       "      <td>$62.15</td>\n",
       "      <td>40.77</td>\n",
       "      <td>High</td>\n",
       "    </tr>\n",
       "    <tr>\n",
       "      <th>1</th>\n",
       "      <td>26341</td>\n",
       "      <td>IN-2014-JR162107-41675</td>\n",
       "      <td>02-05-2014</td>\n",
       "      <td>02-07-2014</td>\n",
       "      <td>Second Class</td>\n",
       "      <td>JR-162107</td>\n",
       "      <td>Justin Ritter</td>\n",
       "      <td>Corporate</td>\n",
       "      <td>NaN</td>\n",
       "      <td>Wollongong</td>\n",
       "      <td>...</td>\n",
       "      <td>FUR-CH-5379</td>\n",
       "      <td>Furniture</td>\n",
       "      <td>Chairs</td>\n",
       "      <td>Novimex Executive Leather Armchair, Black</td>\n",
       "      <td>$3,709.40</td>\n",
       "      <td>9</td>\n",
       "      <td>0.1</td>\n",
       "      <td>($288.77)</td>\n",
       "      <td>923.63</td>\n",
       "      <td>Critical</td>\n",
       "    </tr>\n",
       "    <tr>\n",
       "      <th>2</th>\n",
       "      <td>25330</td>\n",
       "      <td>IN-2014-CR127307-41929</td>\n",
       "      <td>10/17/2014</td>\n",
       "      <td>10/18/2014</td>\n",
       "      <td>First Class</td>\n",
       "      <td>CR-127307</td>\n",
       "      <td>Craig Reiter</td>\n",
       "      <td>Consumer</td>\n",
       "      <td>NaN</td>\n",
       "      <td>Brisbane</td>\n",
       "      <td>...</td>\n",
       "      <td>TEC-PH-5356</td>\n",
       "      <td>Technology</td>\n",
       "      <td>Phones</td>\n",
       "      <td>Nokia Smart Phone, with Caller ID</td>\n",
       "      <td>$5,175.17</td>\n",
       "      <td>9</td>\n",
       "      <td>0.1</td>\n",
       "      <td>$919.97</td>\n",
       "      <td>915.49</td>\n",
       "      <td>Medium</td>\n",
       "    </tr>\n",
       "  </tbody>\n",
       "</table>\n",
       "<p>3 rows × 24 columns</p>\n",
       "</div>"
      ],
      "text/plain": [
       "   Row ID                  Order ID  Order Date   Ship Date     Ship Mode  \\\n",
       "0   40098  CA-2014-AB10015140-41954  11-11-2014  11/13/2014   First Class   \n",
       "1   26341    IN-2014-JR162107-41675  02-05-2014  02-07-2014  Second Class   \n",
       "2   25330    IN-2014-CR127307-41929  10/17/2014  10/18/2014   First Class   \n",
       "\n",
       "    Customer ID  Customer Name    Segment  Postal Code           City  ...  \\\n",
       "0  AB-100151402  Aaron Bergman   Consumer      73120.0  Oklahoma City  ...   \n",
       "1     JR-162107  Justin Ritter  Corporate          NaN     Wollongong  ...   \n",
       "2     CR-127307   Craig Reiter   Consumer          NaN       Brisbane  ...   \n",
       "\n",
       "    Product ID    Category Sub-Category  \\\n",
       "0  TEC-PH-5816  Technology       Phones   \n",
       "1  FUR-CH-5379   Furniture       Chairs   \n",
       "2  TEC-PH-5356  Technology       Phones   \n",
       "\n",
       "                                Product Name       Sales Quantity Discount  \\\n",
       "0                           Samsung Convoy 3    $221.98         2      0.0   \n",
       "1  Novimex Executive Leather Armchair, Black  $3,709.40         9      0.1   \n",
       "2          Nokia Smart Phone, with Caller ID  $5,175.17         9      0.1   \n",
       "\n",
       "      Profit Shipping Cost  Order Priority  \n",
       "0    $62.15          40.77            High  \n",
       "1  ($288.77)        923.63        Critical  \n",
       "2   $919.97         915.49          Medium  \n",
       "\n",
       "[3 rows x 24 columns]"
      ]
     },
     "execution_count": 32,
     "metadata": {},
     "output_type": "execute_result"
    }
   ],
   "source": [
    "df.head(3)"
   ]
  },
  {
   "cell_type": "markdown",
   "id": "96c573fc",
   "metadata": {},
   "source": [
    "## Data cleansing\n",
    "The column with dates are not in one specific format so we need to convert in datetime type\\\n",
    "The column Sales and Profit have special symbols and we need to convert in float type"
   ]
  },
  {
   "cell_type": "code",
   "execution_count": 33,
   "id": "211d394c",
   "metadata": {},
   "outputs": [
    {
     "data": {
      "text/html": [
       "<div>\n",
       "<style scoped>\n",
       "    .dataframe tbody tr th:only-of-type {\n",
       "        vertical-align: middle;\n",
       "    }\n",
       "\n",
       "    .dataframe tbody tr th {\n",
       "        vertical-align: top;\n",
       "    }\n",
       "\n",
       "    .dataframe thead th {\n",
       "        text-align: right;\n",
       "    }\n",
       "</style>\n",
       "<table border=\"1\" class=\"dataframe\">\n",
       "  <thead>\n",
       "    <tr style=\"text-align: right;\">\n",
       "      <th></th>\n",
       "      <th>Ship Date</th>\n",
       "      <th>Order Date</th>\n",
       "    </tr>\n",
       "  </thead>\n",
       "  <tbody>\n",
       "    <tr>\n",
       "      <th>0</th>\n",
       "      <td>2014-11-13</td>\n",
       "      <td>2014-11-11</td>\n",
       "    </tr>\n",
       "    <tr>\n",
       "      <th>1</th>\n",
       "      <td>2014-02-07</td>\n",
       "      <td>2014-02-05</td>\n",
       "    </tr>\n",
       "    <tr>\n",
       "      <th>2</th>\n",
       "      <td>2014-10-18</td>\n",
       "      <td>2014-10-17</td>\n",
       "    </tr>\n",
       "    <tr>\n",
       "      <th>3</th>\n",
       "      <td>2014-01-30</td>\n",
       "      <td>2014-01-28</td>\n",
       "    </tr>\n",
       "    <tr>\n",
       "      <th>4</th>\n",
       "      <td>2014-11-06</td>\n",
       "      <td>2014-11-05</td>\n",
       "    </tr>\n",
       "    <tr>\n",
       "      <th>...</th>\n",
       "      <td>...</td>\n",
       "      <td>...</td>\n",
       "    </tr>\n",
       "    <tr>\n",
       "      <th>51285</th>\n",
       "      <td>2015-06-19</td>\n",
       "      <td>2015-06-19</td>\n",
       "    </tr>\n",
       "    <tr>\n",
       "      <th>51286</th>\n",
       "      <td>2014-05-10</td>\n",
       "      <td>2014-05-06</td>\n",
       "    </tr>\n",
       "    <tr>\n",
       "      <th>51287</th>\n",
       "      <td>2012-08-31</td>\n",
       "      <td>2012-08-26</td>\n",
       "    </tr>\n",
       "    <tr>\n",
       "      <th>51288</th>\n",
       "      <td>2013-02-21</td>\n",
       "      <td>2013-02-17</td>\n",
       "    </tr>\n",
       "    <tr>\n",
       "      <th>51289</th>\n",
       "      <td>2013-05-26</td>\n",
       "      <td>2013-05-22</td>\n",
       "    </tr>\n",
       "  </tbody>\n",
       "</table>\n",
       "<p>51290 rows × 2 columns</p>\n",
       "</div>"
      ],
      "text/plain": [
       "       Ship Date Order Date\n",
       "0     2014-11-13 2014-11-11\n",
       "1     2014-02-07 2014-02-05\n",
       "2     2014-10-18 2014-10-17\n",
       "3     2014-01-30 2014-01-28\n",
       "4     2014-11-06 2014-11-05\n",
       "...          ...        ...\n",
       "51285 2015-06-19 2015-06-19\n",
       "51286 2014-05-10 2014-05-06\n",
       "51287 2012-08-31 2012-08-26\n",
       "51288 2013-02-21 2013-02-17\n",
       "51289 2013-05-26 2013-05-22\n",
       "\n",
       "[51290 rows x 2 columns]"
      ]
     },
     "execution_count": 33,
     "metadata": {},
     "output_type": "execute_result"
    }
   ],
   "source": [
    "# when we use parse_dates on read_excel the convertion is automatic -> parse_dates=['Ship Date','Order Date'])\n",
    "\n",
    "# converting each column in datetime\n",
    "df['Ship Date'] = pd.to_datetime(df['Ship Date'])\n",
    "df['Order Date'] = pd.to_datetime(df['Order Date'])\n",
    "# check if it is ok\n",
    "df[['Ship Date','Order Date']]"
   ]
  },
  {
   "cell_type": "code",
   "execution_count": 34,
   "id": "4992a86f",
   "metadata": {},
   "outputs": [
    {
     "name": "stdout",
     "output_type": "stream",
     "text": [
      "0          $221.98 \n",
      "1        $3,709.40 \n",
      "2        $5,175.17 \n",
      "3        $2,892.51 \n",
      "4        $2,832.96 \n",
      "            ...    \n",
      "51285       $65.10 \n",
      "51286       $16.72 \n",
      "51287        $8.56 \n",
      "51288       $13.44 \n",
      "51289       $61.38 \n",
      "Name: Sales, Length: 51290, dtype: object\n"
     ]
    }
   ],
   "source": [
    "print(df['Sales'])"
   ]
  },
  {
   "cell_type": "code",
   "execution_count": 35,
   "id": "fd1c15c4",
   "metadata": {},
   "outputs": [],
   "source": [
    "# we will use regular expression to delete the symbols on column Sales, before casting in float\n",
    "# clean some symbols like $ ( ) ,\n",
    "df['Sales'] = df['Sales'].str.replace('$','', regex=True)\n",
    "df['Sales'] = df['Sales'].str.replace(',','', regex=True)\n",
    "df['Sales'] = df['Sales'].str.replace(')','', regex=True)\n",
    "df['Sales'] = df['Sales'].str.replace('(','-', regex=True)\n",
    "df['Sales'] = df['Sales'].astype(np.dtype('float64'))"
   ]
  },
  {
   "cell_type": "code",
   "execution_count": 36,
   "id": "8093ce9e",
   "metadata": {},
   "outputs": [],
   "source": [
    "# we will use regular expression to delete the symbols on column Profit, before casting in float\n",
    "# clean some symbols like $ ( )\n",
    "df['Profit'] = df['Profit'].str.replace('$','', regex=True)\n",
    "df['Profit'] = df['Profit'].str.replace(',','', regex=True)\n",
    "df['Profit'] = df['Profit'].str.replace(')','', regex=True)\n",
    "# If the Profit is between () so it is negative \n",
    "df['Profit'] = df['Profit'].str.replace('(','-', regex=True)\n",
    "df['Profit'] = df['Profit'].astype(np.dtype('float64'))"
   ]
  },
  {
   "cell_type": "code",
   "execution_count": 37,
   "id": "4ad9997a",
   "metadata": {},
   "outputs": [
    {
     "name": "stdout",
     "output_type": "stream",
     "text": [
      "<class 'pandas.core.frame.DataFrame'>\n",
      "RangeIndex: 51290 entries, 0 to 51289\n",
      "Data columns (total 24 columns):\n",
      " #   Column          Non-Null Count  Dtype         \n",
      "---  ------          --------------  -----         \n",
      " 0   Row ID          51290 non-null  int64         \n",
      " 1   Order ID        51290 non-null  object        \n",
      " 2   Order Date      51290 non-null  datetime64[ns]\n",
      " 3   Ship Date       51290 non-null  datetime64[ns]\n",
      " 4   Ship Mode       51290 non-null  object        \n",
      " 5   Customer ID     51290 non-null  object        \n",
      " 6   Customer Name   51290 non-null  object        \n",
      " 7   Segment         51290 non-null  object        \n",
      " 8   Postal Code     9994 non-null   float64       \n",
      " 9   City            51290 non-null  object        \n",
      " 10  State           51290 non-null  object        \n",
      " 11  Country         51290 non-null  object        \n",
      " 12  Region          51290 non-null  object        \n",
      " 13  Market          51290 non-null  object        \n",
      " 14  Product ID      51290 non-null  object        \n",
      " 15  Category        51290 non-null  object        \n",
      " 16  Sub-Category    51290 non-null  object        \n",
      " 17  Product Name    51290 non-null  object        \n",
      " 18  Sales           51290 non-null  float64       \n",
      " 19  Quantity        51290 non-null  int64         \n",
      " 20  Discount        51290 non-null  float64       \n",
      " 21  Profit          51290 non-null  float64       \n",
      " 22  Shipping Cost   51290 non-null  float64       \n",
      " 23  Order Priority  51290 non-null  object        \n",
      "dtypes: datetime64[ns](2), float64(5), int64(2), object(15)\n",
      "memory usage: 9.4+ MB\n"
     ]
    }
   ],
   "source": [
    "df.info()"
   ]
  },
  {
   "cell_type": "markdown",
   "id": "a5c58594",
   "metadata": {},
   "source": [
    "## Answering..."
   ]
  },
  {
   "cell_type": "markdown",
   "id": "2405e4f3",
   "metadata": {},
   "source": [
    "1. Total, how many orders have cross the shipping cost of 500?"
   ]
  },
  {
   "cell_type": "code",
   "execution_count": 40,
   "id": "1ff99a16",
   "metadata": {},
   "outputs": [
    {
     "data": {
      "text/plain": [
       "120"
      ]
     },
     "execution_count": 40,
     "metadata": {},
     "output_type": "execute_result"
    }
   ],
   "source": [
    "df['Order ID'][(df['Shipping Cost'] > 500)].count()"
   ]
  },
  {
   "cell_type": "markdown",
   "id": "fb91d8d2",
   "metadata": {},
   "source": [
    "2. Count the number of segments, countries, regions, markets, categories, and sub-categories present in the global_superstore_2016 data."
   ]
  },
  {
   "cell_type": "code",
   "execution_count": 55,
   "id": "0856b76f",
   "metadata": {},
   "outputs": [
    {
     "data": {
      "text/plain": [
       "Segment      Country        Region           Market  Category         Sub-Category\n",
       "Consumer     United States  Western US       USCA    Office Supplies  Binders         238\n",
       "                            Eastern US       USCA    Office Supplies  Binders         238\n",
       "                            Western US       USCA    Office Supplies  Paper           228\n",
       "             France         Western Europe   Europe  Office Supplies  Art             218\n",
       "                                                                      Binders         204\n",
       "                                                                                     ... \n",
       "Corporate    Lithuania      Northern Europe  Europe  Technology       Accessories       1\n",
       "                                                     Office Supplies  Appliances        1\n",
       "                                                     Furniture        Tables            1\n",
       "                                                                      Chairs            1\n",
       "Home Office  Zimbabwe       Eastern Africa   Africa  Technology       Phones            1\n",
       "Length: 4683, dtype: int64"
      ]
     },
     "execution_count": 55,
     "metadata": {},
     "output_type": "execute_result"
    }
   ],
   "source": [
    "# shows per group\n",
    "df[['Segment', 'Country', 'Region', 'Market', 'Category', 'Sub-Category']].value_counts()"
   ]
  },
  {
   "cell_type": "code",
   "execution_count": 57,
   "id": "d0a9d554",
   "metadata": {},
   "outputs": [
    {
     "data": {
      "text/plain": [
       "165"
      ]
     },
     "execution_count": 57,
     "metadata": {},
     "output_type": "execute_result"
    }
   ],
   "source": [
    "# shows individualy\n",
    "len(df['Country'].value_counts())\n",
    "# or\n",
    "len(df['Country'].unique())"
   ]
  },
  {
   "cell_type": "markdown",
   "id": "ee7f452a",
   "metadata": {},
   "source": [
    "3. Get the list of Order ID's where the Indian customer's have bought the things under the category 'Technology' after paying the Shipping Cost more than 500."
   ]
  },
  {
   "cell_type": "code",
   "execution_count": 68,
   "id": "04948a51",
   "metadata": {},
   "outputs": [
    {
     "data": {
      "text/plain": [
       "['IN-2015-BF1100558-42319',\n",
       " 'IN-2015-SW2027558-42125',\n",
       " 'IN-2013-SG2047058-41424',\n",
       " 'IN-2013-GP1474058-41419']"
      ]
     },
     "execution_count": 68,
     "metadata": {},
     "output_type": "execute_result"
    }
   ],
   "source": [
    "list(df['Order ID'][(df['Country'] == 'India') & (df['Category'] == 'Technology') & (df['Shipping Cost'] > 500)])"
   ]
  },
  {
   "cell_type": "markdown",
   "id": "69f452f6",
   "metadata": {},
   "source": [
    "4. Get the list of Order ID's where the Indian customer's have bought the things under the category 'Technology' the Sales greater than 500."
   ]
  },
  {
   "cell_type": "code",
   "execution_count": 70,
   "id": "5dad9f5a",
   "metadata": {},
   "outputs": [
    {
     "data": {
      "text/plain": [
       "['IN-2015-BF1100558-42319',\n",
       " 'IN-2015-SW2027558-42125',\n",
       " 'IN-2013-SG2047058-41424',\n",
       " 'IN-2013-GP1474058-41419',\n",
       " 'IN-2014-SV2081558-41968']"
      ]
     },
     "execution_count": 70,
     "metadata": {},
     "output_type": "execute_result"
    }
   ],
   "source": [
    "# let´s show the 5 first...\n",
    "list(df['Order ID'][(df['Country'] == 'India') & (df['Category'] == 'Technology') & (df['Sales'] > 500)].head(5))"
   ]
  },
  {
   "cell_type": "markdown",
   "id": "474a1ddc",
   "metadata": {},
   "source": [
    "5. How many people from the State 'Karnataka' have bought the things under the category 'Technology'?"
   ]
  },
  {
   "cell_type": "code",
   "execution_count": 74,
   "id": "03de7148",
   "metadata": {},
   "outputs": [
    {
     "data": {
      "text/plain": [
       "21"
      ]
     },
     "execution_count": 74,
     "metadata": {},
     "output_type": "execute_result"
    }
   ],
   "source": [
    "len(df[(df['State'] == 'Karnataka') & (df['Category'] == 'Technology')])"
   ]
  },
  {
   "cell_type": "markdown",
   "id": "49eb5c92",
   "metadata": {},
   "source": [
    "6. Get the list of countries where the 'Profit' and 'Shipping Cost's are greater than or equal to 2000 and 300 respectively."
   ]
  },
  {
   "cell_type": "code",
   "execution_count": 78,
   "id": "e9d0feec",
   "metadata": {},
   "outputs": [
    {
     "data": {
      "text/plain": [
       "['Italy',\n",
       " 'India',\n",
       " 'Morocco',\n",
       " 'United Kingdom',\n",
       " 'Japan',\n",
       " 'Australia',\n",
       " 'United States']"
      ]
     },
     "execution_count": 78,
     "metadata": {},
     "output_type": "execute_result"
    }
   ],
   "source": [
    "list(df['Country'][(df['Profit'] >= 2000) & (df['Shipping Cost'] >= 300)].unique())"
   ]
  },
  {
   "cell_type": "markdown",
   "id": "30325a75",
   "metadata": {},
   "source": [
    "7. Find the list of Indian states where the people have purchased the things under the category Technology."
   ]
  },
  {
   "cell_type": "code",
   "execution_count": 82,
   "id": "60e42f43",
   "metadata": {},
   "outputs": [
    {
     "data": {
      "text/plain": [
       "['Haryana',\n",
       " 'Jharkhand',\n",
       " 'Madhya Pradesh',\n",
       " 'Delhi',\n",
       " 'Gujarat',\n",
       " 'Bihar',\n",
       " 'Kerala',\n",
       " 'Chhattisgarh',\n",
       " 'Tamil Nadu',\n",
       " 'West Bengal',\n",
       " 'Maharashtra',\n",
       " 'Karnataka',\n",
       " 'Rajasthan',\n",
       " 'Uttar Pradesh',\n",
       " 'Andhra Pradesh',\n",
       " 'Telangana',\n",
       " 'Odisha',\n",
       " 'Punjab',\n",
       " 'Assam',\n",
       " 'Uttarakhand',\n",
       " 'Puducherry',\n",
       " 'Jammu and Kashmir']"
      ]
     },
     "execution_count": 82,
     "metadata": {},
     "output_type": "execute_result"
    }
   ],
   "source": [
    "list(df['State'][(df['Country'] == 'India') & (df['Category'] == 'Technology')].unique())"
   ]
  },
  {
   "cell_type": "markdown",
   "id": "f59acae2",
   "metadata": {},
   "source": [
    "8. Find the overall rank of \"India\" where the 'Profit' is maximum under the category 'Technology'."
   ]
  },
  {
   "cell_type": "code",
   "execution_count": 133,
   "id": "9d567445",
   "metadata": {},
   "outputs": [
    {
     "data": {
      "text/html": [
       "<div>\n",
       "<style scoped>\n",
       "    .dataframe tbody tr th:only-of-type {\n",
       "        vertical-align: middle;\n",
       "    }\n",
       "\n",
       "    .dataframe tbody tr th {\n",
       "        vertical-align: top;\n",
       "    }\n",
       "\n",
       "    .dataframe thead th {\n",
       "        text-align: right;\n",
       "    }\n",
       "</style>\n",
       "<table border=\"1\" class=\"dataframe\">\n",
       "  <thead>\n",
       "    <tr style=\"text-align: right;\">\n",
       "      <th></th>\n",
       "      <th>Profit</th>\n",
       "    </tr>\n",
       "    <tr>\n",
       "      <th>Country</th>\n",
       "      <th></th>\n",
       "    </tr>\n",
       "  </thead>\n",
       "  <tbody>\n",
       "    <tr>\n",
       "      <th>United States</th>\n",
       "      <td>145455.59</td>\n",
       "    </tr>\n",
       "    <tr>\n",
       "      <th>China</th>\n",
       "      <td>64845.10</td>\n",
       "    </tr>\n",
       "    <tr>\n",
       "      <th>India</th>\n",
       "      <td>56092.64</td>\n",
       "    </tr>\n",
       "    <tr>\n",
       "      <th>Mexico</th>\n",
       "      <td>53580.26</td>\n",
       "    </tr>\n",
       "    <tr>\n",
       "      <th>Germany</th>\n",
       "      <td>50795.67</td>\n",
       "    </tr>\n",
       "  </tbody>\n",
       "</table>\n",
       "</div>"
      ],
      "text/plain": [
       "                  Profit\n",
       "Country                 \n",
       "United States  145455.59\n",
       "China           64845.10\n",
       "India           56092.64\n",
       "Mexico          53580.26\n",
       "Germany         50795.67"
      ]
     },
     "execution_count": 133,
     "metadata": {},
     "output_type": "execute_result"
    }
   ],
   "source": [
    "# Checking the sum of profit per Country and shows the ranking 5\n",
    "df_rank = df[['Country','Profit']][df['Category'] == 'Technology'].groupby('Country').sum()\n",
    "df_rank.sort_values(by='Profit', ascending=False).head(5)   "
   ]
  },
  {
   "cell_type": "markdown",
   "id": "06fe8fe6",
   "metadata": {},
   "source": [
    "9. Display the data with min, max, average and std of 'Profit' & 'Sales' for each Sub-Category under each Category"
   ]
  },
  {
   "cell_type": "code",
   "execution_count": 137,
   "id": "62efac3b",
   "metadata": {},
   "outputs": [
    {
     "data": {
      "text/html": [
       "<div>\n",
       "<style scoped>\n",
       "    .dataframe tbody tr th:only-of-type {\n",
       "        vertical-align: middle;\n",
       "    }\n",
       "\n",
       "    .dataframe tbody tr th {\n",
       "        vertical-align: top;\n",
       "    }\n",
       "\n",
       "    .dataframe thead tr th {\n",
       "        text-align: left;\n",
       "    }\n",
       "\n",
       "    .dataframe thead tr:last-of-type th {\n",
       "        text-align: right;\n",
       "    }\n",
       "</style>\n",
       "<table border=\"1\" class=\"dataframe\">\n",
       "  <thead>\n",
       "    <tr>\n",
       "      <th></th>\n",
       "      <th></th>\n",
       "      <th colspan=\"4\" halign=\"left\">Profit</th>\n",
       "      <th colspan=\"4\" halign=\"left\">Sales</th>\n",
       "    </tr>\n",
       "    <tr>\n",
       "      <th></th>\n",
       "      <th></th>\n",
       "      <th>min</th>\n",
       "      <th>max</th>\n",
       "      <th>mean</th>\n",
       "      <th>std</th>\n",
       "      <th>min</th>\n",
       "      <th>max</th>\n",
       "      <th>mean</th>\n",
       "      <th>std</th>\n",
       "    </tr>\n",
       "    <tr>\n",
       "      <th>Category</th>\n",
       "      <th>Sub-Category</th>\n",
       "      <th></th>\n",
       "      <th></th>\n",
       "      <th></th>\n",
       "      <th></th>\n",
       "      <th></th>\n",
       "      <th></th>\n",
       "      <th></th>\n",
       "      <th></th>\n",
       "    </tr>\n",
       "  </thead>\n",
       "  <tbody>\n",
       "    <tr>\n",
       "      <th rowspan=\"4\" valign=\"top\">Furniture</th>\n",
       "      <th>Bookcases</th>\n",
       "      <td>-1981.40</td>\n",
       "      <td>2316.51</td>\n",
       "      <td>67.160668</td>\n",
       "      <td>242.859653</td>\n",
       "      <td>35.49</td>\n",
       "      <td>5667.87</td>\n",
       "      <td>608.283928</td>\n",
       "      <td>602.487538</td>\n",
       "    </tr>\n",
       "    <tr>\n",
       "      <th>Chairs</th>\n",
       "      <td>-2211.17</td>\n",
       "      <td>1868.13</td>\n",
       "      <td>40.884170</td>\n",
       "      <td>180.977922</td>\n",
       "      <td>13.55</td>\n",
       "      <td>5759.96</td>\n",
       "      <td>437.298241</td>\n",
       "      <td>535.097972</td>\n",
       "    </tr>\n",
       "    <tr>\n",
       "      <th>Furnishings</th>\n",
       "      <td>-446.40</td>\n",
       "      <td>561.96</td>\n",
       "      <td>14.852746</td>\n",
       "      <td>56.300509</td>\n",
       "      <td>1.89</td>\n",
       "      <td>1519.14</td>\n",
       "      <td>122.116725</td>\n",
       "      <td>145.810487</td>\n",
       "    </tr>\n",
       "    <tr>\n",
       "      <th>Tables</th>\n",
       "      <td>-2750.28</td>\n",
       "      <td>2071.44</td>\n",
       "      <td>-74.429210</td>\n",
       "      <td>402.974096</td>\n",
       "      <td>24.37</td>\n",
       "      <td>5451.30</td>\n",
       "      <td>879.259199</td>\n",
       "      <td>796.402515</td>\n",
       "    </tr>\n",
       "    <tr>\n",
       "      <th rowspan=\"9\" valign=\"top\">Office Supplies</th>\n",
       "      <th>Appliances</th>\n",
       "      <td>-3059.82</td>\n",
       "      <td>3979.08</td>\n",
       "      <td>81.264426</td>\n",
       "      <td>303.660140</td>\n",
       "      <td>0.44</td>\n",
       "      <td>7958.58</td>\n",
       "      <td>580.100896</td>\n",
       "      <td>798.680507</td>\n",
       "    </tr>\n",
       "    <tr>\n",
       "      <th>Art</th>\n",
       "      <td>-371.23</td>\n",
       "      <td>269.22</td>\n",
       "      <td>11.889371</td>\n",
       "      <td>32.258717</td>\n",
       "      <td>1.34</td>\n",
       "      <td>1113.02</td>\n",
       "      <td>76.400843</td>\n",
       "      <td>82.090796</td>\n",
       "    </tr>\n",
       "    <tr>\n",
       "      <th>Binders</th>\n",
       "      <td>-3701.89</td>\n",
       "      <td>4946.37</td>\n",
       "      <td>11.785376</td>\n",
       "      <td>154.035558</td>\n",
       "      <td>0.56</td>\n",
       "      <td>9892.74</td>\n",
       "      <td>75.149705</td>\n",
       "      <td>288.673033</td>\n",
       "    </tr>\n",
       "    <tr>\n",
       "      <th>Envelopes</th>\n",
       "      <td>-173.29</td>\n",
       "      <td>279.36</td>\n",
       "      <td>12.085991</td>\n",
       "      <td>31.817112</td>\n",
       "      <td>1.63</td>\n",
       "      <td>604.66</td>\n",
       "      <td>70.891320</td>\n",
       "      <td>70.009550</td>\n",
       "    </tr>\n",
       "    <tr>\n",
       "      <th>Fasteners</th>\n",
       "      <td>-121.30</td>\n",
       "      <td>127.26</td>\n",
       "      <td>5.322599</td>\n",
       "      <td>14.495325</td>\n",
       "      <td>1.24</td>\n",
       "      <td>271.32</td>\n",
       "      <td>34.407993</td>\n",
       "      <td>29.317593</td>\n",
       "    </tr>\n",
       "    <tr>\n",
       "      <th>Labels</th>\n",
       "      <td>-63.54</td>\n",
       "      <td>385.38</td>\n",
       "      <td>5.762707</td>\n",
       "      <td>16.206283</td>\n",
       "      <td>1.67</td>\n",
       "      <td>786.48</td>\n",
       "      <td>28.200903</td>\n",
       "      <td>34.178941</td>\n",
       "    </tr>\n",
       "    <tr>\n",
       "      <th>Paper</th>\n",
       "      <td>-191.47</td>\n",
       "      <td>352.30</td>\n",
       "      <td>16.641257</td>\n",
       "      <td>32.431181</td>\n",
       "      <td>3.38</td>\n",
       "      <td>733.95</td>\n",
       "      <td>69.240455</td>\n",
       "      <td>74.755398</td>\n",
       "    </tr>\n",
       "    <tr>\n",
       "      <th>Storage</th>\n",
       "      <td>-800.06</td>\n",
       "      <td>802.17</td>\n",
       "      <td>21.472953</td>\n",
       "      <td>94.012889</td>\n",
       "      <td>2.80</td>\n",
       "      <td>2962.68</td>\n",
       "      <td>223.175635</td>\n",
       "      <td>292.236933</td>\n",
       "    </tr>\n",
       "    <tr>\n",
       "      <th>Supplies</th>\n",
       "      <td>-1049.34</td>\n",
       "      <td>327.51</td>\n",
       "      <td>9.372264</td>\n",
       "      <td>45.011510</td>\n",
       "      <td>2.92</td>\n",
       "      <td>8187.65</td>\n",
       "      <td>100.877084</td>\n",
       "      <td>272.156490</td>\n",
       "    </tr>\n",
       "    <tr>\n",
       "      <th rowspan=\"4\" valign=\"top\">Technology</th>\n",
       "      <th>Accessories</th>\n",
       "      <td>-1345.50</td>\n",
       "      <td>1216.02</td>\n",
       "      <td>42.154940</td>\n",
       "      <td>126.787127</td>\n",
       "      <td>0.99</td>\n",
       "      <td>3449.88</td>\n",
       "      <td>243.654400</td>\n",
       "      <td>327.224372</td>\n",
       "    </tr>\n",
       "    <tr>\n",
       "      <th>Copiers</th>\n",
       "      <td>-1672.50</td>\n",
       "      <td>8399.98</td>\n",
       "      <td>116.314723</td>\n",
       "      <td>365.093226</td>\n",
       "      <td>35.46</td>\n",
       "      <td>17499.95</td>\n",
       "      <td>679.008776</td>\n",
       "      <td>821.101120</td>\n",
       "    </tr>\n",
       "    <tr>\n",
       "      <th>Machines</th>\n",
       "      <td>-6599.98</td>\n",
       "      <td>2799.98</td>\n",
       "      <td>39.614872</td>\n",
       "      <td>347.491686</td>\n",
       "      <td>11.51</td>\n",
       "      <td>22638.48</td>\n",
       "      <td>524.266703</td>\n",
       "      <td>928.001009</td>\n",
       "    </tr>\n",
       "    <tr>\n",
       "      <th>Phones</th>\n",
       "      <td>-4088.38</td>\n",
       "      <td>2939.31</td>\n",
       "      <td>64.556878</td>\n",
       "      <td>251.666565</td>\n",
       "      <td>2.97</td>\n",
       "      <td>6998.64</td>\n",
       "      <td>508.437489</td>\n",
       "      <td>717.305537</td>\n",
       "    </tr>\n",
       "  </tbody>\n",
       "</table>\n",
       "</div>"
      ],
      "text/plain": [
       "                               Profit                                   Sales  \\\n",
       "                                  min      max        mean         std    min   \n",
       "Category        Sub-Category                                                    \n",
       "Furniture       Bookcases    -1981.40  2316.51   67.160668  242.859653  35.49   \n",
       "                Chairs       -2211.17  1868.13   40.884170  180.977922  13.55   \n",
       "                Furnishings   -446.40   561.96   14.852746   56.300509   1.89   \n",
       "                Tables       -2750.28  2071.44  -74.429210  402.974096  24.37   \n",
       "Office Supplies Appliances   -3059.82  3979.08   81.264426  303.660140   0.44   \n",
       "                Art           -371.23   269.22   11.889371   32.258717   1.34   \n",
       "                Binders      -3701.89  4946.37   11.785376  154.035558   0.56   \n",
       "                Envelopes     -173.29   279.36   12.085991   31.817112   1.63   \n",
       "                Fasteners     -121.30   127.26    5.322599   14.495325   1.24   \n",
       "                Labels         -63.54   385.38    5.762707   16.206283   1.67   \n",
       "                Paper         -191.47   352.30   16.641257   32.431181   3.38   \n",
       "                Storage       -800.06   802.17   21.472953   94.012889   2.80   \n",
       "                Supplies     -1049.34   327.51    9.372264   45.011510   2.92   \n",
       "Technology      Accessories  -1345.50  1216.02   42.154940  126.787127   0.99   \n",
       "                Copiers      -1672.50  8399.98  116.314723  365.093226  35.46   \n",
       "                Machines     -6599.98  2799.98   39.614872  347.491686  11.51   \n",
       "                Phones       -4088.38  2939.31   64.556878  251.666565   2.97   \n",
       "\n",
       "                                                                \n",
       "                                   max        mean         std  \n",
       "Category        Sub-Category                                    \n",
       "Furniture       Bookcases      5667.87  608.283928  602.487538  \n",
       "                Chairs         5759.96  437.298241  535.097972  \n",
       "                Furnishings    1519.14  122.116725  145.810487  \n",
       "                Tables         5451.30  879.259199  796.402515  \n",
       "Office Supplies Appliances     7958.58  580.100896  798.680507  \n",
       "                Art            1113.02   76.400843   82.090796  \n",
       "                Binders        9892.74   75.149705  288.673033  \n",
       "                Envelopes       604.66   70.891320   70.009550  \n",
       "                Fasteners       271.32   34.407993   29.317593  \n",
       "                Labels          786.48   28.200903   34.178941  \n",
       "                Paper           733.95   69.240455   74.755398  \n",
       "                Storage        2962.68  223.175635  292.236933  \n",
       "                Supplies       8187.65  100.877084  272.156490  \n",
       "Technology      Accessories    3449.88  243.654400  327.224372  \n",
       "                Copiers       17499.95  679.008776  821.101120  \n",
       "                Machines      22638.48  524.266703  928.001009  \n",
       "                Phones         6998.64  508.437489  717.305537  "
      ]
     },
     "execution_count": 137,
     "metadata": {},
     "output_type": "execute_result"
    }
   ],
   "source": [
    "df_min_max = df[['Category','Sub-Category','Profit','Sales']].groupby(['Category','Sub-Category']).agg(['min','max','mean','std'])\n",
    "df_min_max"
   ]
  },
  {
   "cell_type": "markdown",
   "id": "1035507f",
   "metadata": {},
   "source": [
    "## Visualisation"
   ]
  },
  {
   "cell_type": "code",
   "execution_count": 168,
   "id": "7b3908ad",
   "metadata": {},
   "outputs": [
    {
     "data": {
      "image/png": "[encoded data removed]",
      "text/plain": [
       "<Figure size 1440x576 with 1 Axes>"
      ]
     },
     "metadata": {
      "needs_background": "light"
     },
     "output_type": "display_data"
    }
   ],
   "source": [
    "import matplotlib.pyplot as plt\n",
    "plt.figure(figsize=(20,8))\n",
    "# shows the top countries by profit\n",
    "plt.title('Top 10 Countries per Profit', fontsize=20)\n",
    "df_top_profit = df[['Country','Profit']].groupby(['Country']).sum()\n",
    "df_top_profit.sort_values(by='Profit', ascending=False, inplace=True)\n",
    "df_top_profit = df_top_profit.head(10)\n",
    "plt.bar(df_top_profit.index, df_top_profit['Profit'])\n",
    "plt.xticks(rotation=45)\n",
    "plt.show()"
   ]
  },
  {
   "cell_type": "code",
   "execution_count": 228,
   "id": "d8ccb398",
   "metadata": {},
   "outputs": [
    {
     "data": {
      "image/png": "[encoded data removed]",
      "text/plain": [
       "<Figure size 1440x576 with 1 Axes>"
      ]
     },
     "metadata": {
      "needs_background": "light"
     },
     "output_type": "display_data"
    }
   ],
   "source": [
    "# shows the top category per sales and profit\n",
    "df_top_profit = df[['Category','Profit','Sales']].groupby(['Category']).sum()\n",
    "df_top_profit.sort_values(by='Sales', ascending=False, inplace=True)\n",
    "df_top_profit = df_top_profit\n",
    "\n",
    "import numpy as np\n",
    "import matplotlib.ticker as tkr\n",
    "x  = df_top_profit.index\n",
    "# to put the column bar side by side we need to specify the length of the bar using width\n",
    "x_indexes = np.arange(len(x))\n",
    "width = 0.3\n",
    "\n",
    "y1 = df_top_profit['Profit'] \n",
    "y2 =  df_top_profit['Sales'] \n",
    "\n",
    "fig,ax = plt.subplots(nrows=1,ncols=1,sharex=True,figsize=(20,8)) # row x col ->return list \n",
    "ax.ticklabel_format(style='plain')\n",
    "\n",
    "ax.set_title('Total Sales and Profit per Category', fontsize=20)\n",
    "ax.bar(x_indexes+width,y2, color='green',label='Sales',width=width)\n",
    "ax.bar(x_indexes,y1, color=\"blue\",label='Profit',width=width)\n",
    "\n",
    "ax.legend(fontsize=14)\n",
    "\n",
    "plt.xticks(ticks=x_indexes, labels=x, fontsize=14)\n",
    "plt.show()\n"
   ]
  }
 ],
 "metadata": {
  "kernelspec": {
   "display_name": "Python 3",
   "language": "python",
   "name": "python3"
  },
  "language_info": {
   "codemirror_mode": {
    "name": "ipython",
    "version": 3
   },
   "file_extension": ".py",
   "mimetype": "text/x-python",
   "name": "python",
   "nbconvert_exporter": "python",
   "pygments_lexer": "ipython3",
   "version": "3.7.10"
  }
 },
 "nbformat": 4,
 "nbformat_minor": 5
}
